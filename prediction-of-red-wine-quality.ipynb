{
 "cells": [
  {
   "cell_type": "markdown",
   "metadata": {
    "_uuid": "a711b7d611a7fb168d5d6ba6afdca1ffe26eb3f5"
   },
   "source": [
    "# Prediction of Red Wine Quality(93.215%)"
   ]
  },
  {
   "cell_type": "code",
   "execution_count": null,
   "metadata": {
    "_cell_guid": "b1076dfc-b9ad-4769-8c92-a6c4dae69d19",
    "_kg_hide-input": false,
    "_uuid": "8f2839f25d086af736a60e9eeb907d3b93b6e0e5"
   },
   "outputs": [],
   "source": [
    "import numpy as np\n",
    "import pandas as pd\n",
    "import matplotlib.pyplot as plt\n",
    "import seaborn as sns\n",
    "\n",
    "import warnings\n",
    "warnings.filterwarnings('ignore')\n",
    "import os\n",
    "print(os.listdir(\"../input\"))\n",
    "\n",
    "# Any results you write to the current directory are saved as output."
   ]
  },
  {
   "cell_type": "code",
   "execution_count": null,
   "metadata": {
    "_cell_guid": "79c7e3d0-c299-4dcb-8224-4455121ee9b0",
    "_kg_hide-input": false,
    "_uuid": "d629ff2d2480ee46fbb7e2d37f6b5fab8052498a"
   },
   "outputs": [],
   "source": [
    "df = pd.read_csv('../input/winequality-red.csv')\n",
    "df.info()"
   ]
  },
  {
   "cell_type": "markdown",
   "metadata": {
    "_uuid": "45832b38b804f7bc0d77101ca76001980d65a9e2"
   },
   "source": [
    "## - Data Analysis\n",
    "Define the grade below\n",
    "            \n",
    "             1(good) if quality is more than 7 \n",
    "            \n",
    "             0(not good) if quality is less than 7 "
   ]
  },
  {
   "cell_type": "markdown",
   "metadata": {
    "_uuid": "7c433c08757f3034950283fa933c1eff2d3d80fd"
   },
   "source": [
    "### 1. Correlation"
   ]
  },
  {
   "cell_type": "code",
   "execution_count": null,
   "metadata": {
    "_kg_hide-input": true,
    "_uuid": "5a88f55fb891f70246b370aed32c352d6824fd7d"
   },
   "outputs": [],
   "source": [
    "df['grade'] = 1 # good\n",
    "df.grade[df.quality < 7] = 0 # not good\n",
    "\n",
    "plt.figure(figsize = (8,8))\n",
    "labels = df.grade.value_counts().index\n",
    "plt.pie(df.grade.value_counts(), autopct='%1.1f%%')\n",
    "plt.legend(labels, loc=\"best\")\n",
    "plt.axis('equal')\n",
    "plt.title('Quality Pie Chart')\n",
    "plt.show()\n",
    "print('The good quality wines count for ',round(df.grade.value_counts(normalize=True)[1]*100,1),'%.')"
   ]
  },
  {
   "cell_type": "code",
   "execution_count": null,
   "metadata": {
    "_kg_hide-input": true,
    "_uuid": "bef92f497a1fb860844a0d7c0c856678a22db24a"
   },
   "outputs": [],
   "source": [
    "sns.pairplot(df, hue='grade')\n",
    "plt.show()"
   ]
  },
  {
   "cell_type": "markdown",
   "metadata": {
    "_uuid": "95df4c63bb28be533c06303ae1a958a8e6a546d9"
   },
   "source": [
    "Each attribute in the two group(grade=0 or grade=1) has the almost same histogram."
   ]
  },
  {
   "cell_type": "code",
   "execution_count": null,
   "metadata": {
    "_kg_hide-input": true,
    "_uuid": "1057f95a987eeea0d6ec917ce1fde8cf97a42638"
   },
   "outputs": [],
   "source": [
    "mask = np.zeros_like(df.corr(), dtype=np.bool)\n",
    "mask[np.triu_indices_from(mask)] = True\n",
    "\n",
    "plt.subplots(figsize = (12,12))\n",
    "sns.heatmap(df.corr(), \n",
    "            annot=True,\n",
    "            mask = mask,\n",
    "            cmap = 'RdBu_r',\n",
    "            linewidths=0.1, \n",
    "            linecolor='white',\n",
    "            vmax = .9,\n",
    "            square=True)\n",
    "plt.title(\"Correlations Among Features\", y = 1.03,fontsize = 20)\n",
    "plt.show()"
   ]
  },
  {
   "cell_type": "markdown",
   "metadata": {
    "_uuid": "283a730143ecab2ca9ba5b63a9be1d790685d3cb"
   },
   "source": [
    "Seeing the pairplot and the correlation heatmap, there is no distinguishing correlations to quality."
   ]
  },
  {
   "cell_type": "markdown",
   "metadata": {
    "_uuid": "2f051a50c44aff1aee5026058c64e9fc8295ea31"
   },
   "source": [
    "### 2. Average Radar Chart"
   ]
  },
  {
   "cell_type": "code",
   "execution_count": null,
   "metadata": {
    "_kg_hide-input": true,
    "_uuid": "97b1d518e9c0005219ce1a13db7b2ba6d1152899"
   },
   "outputs": [],
   "source": [
    "good = df[df.grade == 1]\n",
    "notgood = df[df.grade == 0]"
   ]
  },
  {
   "cell_type": "code",
   "execution_count": null,
   "metadata": {
    "_kg_hide-input": true,
    "_uuid": "a435745eab8102ad81380257daae7f9157c9f6fd"
   },
   "outputs": [],
   "source": [
    "drop_items = ['quality','grade']\n",
    "g1 = pd.DataFrame(good.drop(drop_items, axis=1).mean(), columns=['Good']).T\n",
    "g2 = pd.DataFrame(notgood.drop(drop_items, axis=1).mean(), columns=['Not Good']).T\n",
    "total = pd.DataFrame(df.drop(drop_items, axis=1).mean(), columns=['Total Average']).T\n",
    "data = g1.append([g2, total])"
   ]
  },
  {
   "cell_type": "code",
   "execution_count": null,
   "metadata": {
    "_kg_hide-input": true,
    "_uuid": "bc1c2202a297e38a780071d89ec347c278990cc3"
   },
   "outputs": [],
   "source": [
    "# Set standard\n",
    "temp1 = data.values.reshape((3, 11))\n",
    "standard = data.loc['Total Average'].values.reshape((1, 11))\n",
    "temp = 100* temp1 / standard\n",
    "data_percentage = pd.DataFrame(temp, columns = data.columns.values.tolist())"
   ]
  },
  {
   "cell_type": "code",
   "execution_count": null,
   "metadata": {
    "_kg_hide-input": true,
    "_uuid": "3e1ab5b3c586b378a61f9e811b6f789df7fdec29"
   },
   "outputs": [],
   "source": [
    "from math import pi\n",
    "Attributes =list(data_percentage)\n",
    "AttNo = len(Attributes)\n",
    "\n",
    "values = data_percentage.iloc[0].tolist() #\n",
    "values += values [:1]\n",
    "\n",
    "angles = [n / float(AttNo) * 2 * pi for n in range(AttNo)]\n",
    "angles += angles [:1]\n",
    "\n",
    "values2 = data_percentage.iloc[1].tolist() # \n",
    "values2 += values2 [:1]\n",
    "\n",
    "angles2 = [n / float(AttNo) * 2 * pi for n in range(AttNo)]\n",
    "angles2 += angles2 [:1]\n",
    "\n",
    "values3 = data_percentage.iloc[2].tolist() # \n",
    "values3 += values3 [:1]\n",
    "\n",
    "angles3 = [n / float(AttNo) * 2 * pi for n in range(AttNo)]\n",
    "angles3 += angles3 [:1]\n",
    "\n",
    "plt.figure(figsize=(10,10))\n",
    "ax = plt.subplot(111, polar=True)\n",
    "plt.xticks(angles[:-1],Attributes)\n",
    "\n",
    "# Good \n",
    "ax.plot(angles, values, color = 'r')\n",
    "ax.fill(angles, values, 'red', alpha=0.1)\n",
    "\n",
    "# Not Good\n",
    "ax.plot(angles2, values2, color = 'b')\n",
    "ax.fill(angles2, values2, 'blue', alpha=0.1)\n",
    "\n",
    "# Total Average\n",
    "ax.plot(angles3, values3, color = 'black')\n",
    "ax.fill(angles3, values3, 'black', alpha=0.1)\n",
    "\n",
    "plt.figtext(0.4,0.82,'Good Quality Average',color='red')\n",
    "plt.figtext(0.28,0.48,'Not Good Quality Average',color='blue')\n",
    "plt.figtext(0.36,0.23,'Total Average',color='black')\n",
    "plt.show()"
   ]
  },
  {
   "cell_type": "code",
   "execution_count": null,
   "metadata": {
    "_kg_hide-input": true,
    "_uuid": "1660e87aed8508b42811505580312826cb9c1c42"
   },
   "outputs": [],
   "source": [
    "data_percentage[:2].T.plot(kind='bar',figsize=(15,5), color=['red','blue'])\n",
    "plt.title('Average of the two groups')\n",
    "plt.legend(('Good','Not Good'))\n",
    "x = np.linspace(-10,100,10)\n",
    "y = 100*np.ones(10)\n",
    "plt.plot(x,y,'green')\n",
    "plt.show()"
   ]
  },
  {
   "cell_type": "code",
   "execution_count": null,
   "metadata": {
    "_kg_hide-input": true,
    "_uuid": "950458b5208bf663d1a58c46497868af258c32e2"
   },
   "outputs": [],
   "source": [
    "plt.figure(figsize = (14,10))\n",
    "plt.subplots_adjust(hspace = 0.3, wspace = 0.3)\n",
    "\n",
    "plt.subplot(241) \n",
    "sns.kdeplot(df['citric acid'], df['quality'])\n",
    "plt.subplot(242)\n",
    "sns.kdeplot(df['sulphates'], df['quality'])\n",
    "plt.subplot(243)\n",
    "sns.kdeplot(df['alcohol'], df['quality'])\n",
    "plt.subplot(244)\n",
    "sns.kdeplot(df['residual sugar'], df['quality'])\n",
    "\n",
    "plt.subplot(245)\n",
    "sns.kdeplot(df['free sulfur dioxide'], df['quality'])\n",
    "plt.subplot(246)\n",
    "sns.kdeplot(df['volatile acidity'], df['quality'])\n",
    "plt.subplot(247)\n",
    "sns.kdeplot(df['total sulfur dioxide'], df['quality'])\n",
    "plt.subplot(248)\n",
    "sns.kdeplot(df['chlorides'], df['quality'])\n",
    "plt.show()"
   ]
  },
  {
   "cell_type": "markdown",
   "metadata": {
    "_uuid": "2bbd69426dea65c1106a331bec6dff4da65ec36c"
   },
   "source": [
    "On average, the more wine includes citric acid, sulphates, or alcohol, the wine is better, otherwise the less wine includes free sulfur dioxide, volatile acidity, or total sulfur dioxide, the wine is better."
   ]
  },
  {
   "cell_type": "markdown",
   "metadata": {
    "_uuid": "71f18914333bb278fc30463d0df2ab7ea4577409"
   },
   "source": [
    "## - Data Prediction\n",
    "\n",
    "The several models are used for the prediction.\n",
    "\n",
    "    1. Decision Tree\n",
    "    2. Random Forest\n",
    "    3. KNeighbors\n",
    "    4. GaussianNB\n",
    "    5. SVC\n",
    "    6. XGBoost"
   ]
  },
  {
   "cell_type": "code",
   "execution_count": null,
   "metadata": {
    "_kg_hide-input": true,
    "_uuid": "715a7c71322dfa1e316c140b8958e27ba9860b75"
   },
   "outputs": [],
   "source": [
    "from sklearn.metrics import mean_squared_error\n",
    "from sklearn.model_selection import train_test_split\n",
    "\n",
    "from sklearn.ensemble import RandomForestClassifier\n",
    "from sklearn.tree import DecisionTreeClassifier\n",
    "from sklearn.neighbors import KNeighborsClassifier\n",
    "from sklearn.naive_bayes import GaussianNB\n",
    "from sklearn.svm import SVC\n",
    "import xgboost\n",
    "from sklearn.metrics import accuracy_score\n",
    "\n",
    "df_train_features = df.drop(['quality','grade'], axis =1)\n",
    "n = 11\n",
    "\n",
    "x_train, x_test, y_train, y_test = train_test_split(df_train_features, df['grade'], test_size=0.1, random_state=7)\n",
    "\n",
    "x_train_mat = x_train.values.reshape((len(x_train), n))\n",
    "x_test_mat = x_test.values.reshape((len(x_test), n))\n"
   ]
  },
  {
   "cell_type": "code",
   "execution_count": null,
   "metadata": {
    "_kg_hide-input": false,
    "_uuid": "12863f1d23f9350a14d5c5799d104aad535a112b"
   },
   "outputs": [],
   "source": [
    "##############################################################################\n",
    "# Create Predictive Models\n",
    "##############################################################################\n",
    "print('Start Predicting...')\n",
    "\n",
    "decision_tree = DecisionTreeClassifier()\n",
    "decision_tree.fit(x_train_mat,y_train)\n",
    "tree_pred = decision_tree.predict(x_test_mat)\n",
    "\n",
    "rf = RandomForestClassifier()\n",
    "rf.fit(x_train_mat,y_train)\n",
    "rf_pred = rf.predict(x_test_mat)\n",
    "\n",
    "KN = KNeighborsClassifier()\n",
    "KN.fit(x_train_mat,y_train)\n",
    "KN_pred = KN.predict(x_test_mat)\n",
    "\n",
    "Gaussian = GaussianNB()\n",
    "Gaussian.fit(x_train_mat,y_train)\n",
    "Gaussian_pred = Gaussian.predict(x_test_mat)\n",
    "\n",
    "svc = SVC()\n",
    "svc.fit(x_train_mat,y_train)\n",
    "svc_pred = svc.predict(x_test_mat)\n",
    "\n",
    "xgb = xgboost.XGBClassifier()\n",
    "xgb.fit(x_train_mat,y_train)\n",
    "xgb_pred = xgb.predict(x_test_mat)\n",
    "\n",
    "print('...Complete')"
   ]
  },
  {
   "cell_type": "code",
   "execution_count": null,
   "metadata": {
    "_uuid": "32581192acf756fb877bcb67495133f75982027e"
   },
   "outputs": [],
   "source": [
    "##############################################################################\n",
    "# Obtain Accuracy Scores for the test set\n",
    "##############################################################################\n",
    "print('Decision Tree:', accuracy_score(y_test, tree_pred)*100,'%')\n",
    "print('Random Forest:', accuracy_score(y_test, rf_pred)*100,'%')\n",
    "print('KNeighbors:',accuracy_score(y_test, KN_pred)*100,'%')\n",
    "print('GaussianNB:',accuracy_score(y_test, Gaussian_pred)*100,'%')\n",
    "print('SVC:',accuracy_score(y_test, svc_pred)*100,'%')\n",
    "print('XGB:',accuracy_score(y_test, xgb_pred)*100,'%')"
   ]
  },
  {
   "cell_type": "markdown",
   "metadata": {
    "_uuid": "6f5aa9d7890a834e96ce95244138e259d13fdaaf"
   },
   "source": [
    "The random forest is selected as a predictive model."
   ]
  },
  {
   "cell_type": "code",
   "execution_count": null,
   "metadata": {
    "_uuid": "2cc685f52d0e5c527fc93e08003cd6f4d1a695f6"
   },
   "outputs": [],
   "source": [
    "##############################################################################\n",
    "# Obtain Accuracy Scores\n",
    "# Each classifier has a different random state.\n",
    "##############################################################################\n",
    "k = [10,20,30,40,50]\n",
    "for i in k:\n",
    "    rf_tune = RandomForestClassifier(n_estimators=50, random_state=i)\n",
    "    rf_tune.fit(x_train_mat,y_train)\n",
    "    y_pred = rf_tune.predict(x_test_mat)\n",
    "    print(accuracy_score(y_test, y_pred)*100,'%')"
   ]
  },
  {
   "cell_type": "code",
   "execution_count": null,
   "metadata": {
    "_uuid": "bb7a7b1d8b5a3363f5eedc34bbb6de9d3cba4c59"
   },
   "outputs": [],
   "source": [
    "##############################################################################\n",
    "# Input all train data\n",
    "##############################################################################\n",
    "x_train_check = df_train_features.values.reshape((len(df_train_features), n))\n",
    "x_test_check = df['grade'].values.reshape((len(df['grade']), 1))\n",
    "\n",
    "k = [10,20,30,40,50]\n",
    "for i in k:\n",
    "    rf_tune = RandomForestClassifier(n_estimators=50, random_state=i)\n",
    "    rf_tune.fit(x_train_mat,y_train)\n",
    "    yy_pred = rf_tune.predict(x_train_check)\n",
    "    print(accuracy_score(x_test_check, yy_pred)*100,'%')"
   ]
  },
  {
   "cell_type": "markdown",
   "metadata": {
    "_uuid": "a95edea01f2e6f6cd168b1196b754b6275832219"
   },
   "source": [
    "### * Visualization for the predicted values"
   ]
  },
  {
   "cell_type": "code",
   "execution_count": null,
   "metadata": {
    "_kg_hide-input": true,
    "_uuid": "522bcd5cf0500e9fbb33ea5f6bf95e955c5d4dae"
   },
   "outputs": [],
   "source": [
    "plt.figure(figsize = (20,8))\n",
    "domain = np.linspace(1,100,len(y_pred)) \n",
    "plt.plot(domain, rf_pred,'o')\n",
    "plt.plot(domain, y_test,'o')\n",
    "plt.legend(('Prediction','Actual value'))\n",
    "plt.show()"
   ]
  },
  {
   "cell_type": "markdown",
   "metadata": {
    "_uuid": "0c845b30dc973a8e2a62a4c633ed244b81b3a782"
   },
   "source": []
  },
  {
   "cell_type": "code",
   "execution_count": null,
   "metadata": {
    "_uuid": "7017e814e6ec0ce86f6b15278254aa77a4781b09"
   },
   "outputs": [],
   "source": []
  }
 ],
 "metadata": {
  "kernelspec": {
   "display_name": "Python 3",
   "language": "python",
   "name": "python3"
  },
  "language_info": {
   "codemirror_mode": {
    "name": "ipython",
    "version": 3
   },
   "file_extension": ".py",
   "mimetype": "text/x-python",
   "name": "python",
   "nbconvert_exporter": "python",
   "pygments_lexer": "ipython3",
   "version": "3.6.9"
  }
 },
 "nbformat": 4,
 "nbformat_minor": 1
}
